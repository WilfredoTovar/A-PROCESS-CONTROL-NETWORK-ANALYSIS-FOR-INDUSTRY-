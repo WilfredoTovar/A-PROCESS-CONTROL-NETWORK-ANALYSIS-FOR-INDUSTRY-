{
  "nbformat": 4,
  "nbformat_minor": 0,
  "metadata": {
    "colab": {
      "name": "Untitled0.ipynb",
      "provenance": [],
      "authorship_tag": "ABX9TyOR5YoBN4AeOsMYg0V6niYq",
      "include_colab_link": true
    },
    "kernelspec": {
      "name": "python3",
      "display_name": "Python 3"
    }
  },
  "cells": [
    {
      "cell_type": "markdown",
      "metadata": {
        "id": "view-in-github",
        "colab_type": "text"
      },
      "source": [
        "<a href=\"https://colab.research.google.com/github/WilfredoTovar/A-PROCESS-CONTROL-NETWORK-ANALYSIS-FOR-INDUSTRY-/blob/master/Untitled0.ipynb\" target=\"_parent\"><img src=\"https://colab.research.google.com/assets/colab-badge.svg\" alt=\"Open In Colab\"/></a>"
      ]
    },
    {
      "cell_type": "code",
      "metadata": {
        "id": "riF5pg58j_PJ",
        "colab_type": "code",
        "colab": {
          "base_uri": "https://localhost:8080/",
          "height": 87
        },
        "outputId": "073f60b8-c5b4-4b52-d31c-eeeeddf9112f"
      },
      "source": [
        "#Import the libraries\n",
        "import math\n",
        "import pandas_datareader as web\n",
        "import numpy as np\n",
        "import pandas as pd\n",
        "from sklearn.preprocessing import MinMaxScaler\n",
        "from keras.models import Sequential\n",
        "from keras.layers import Dense, LSTM\n",
        "import matplotlib.pyplot as plt\n",
        "plt.style.use('fivethirtyeight')"
      ],
      "execution_count": 1,
      "outputs": [
        {
          "output_type": "stream",
          "text": [
            "/usr/local/lib/python3.6/dist-packages/pandas_datareader/compat/__init__.py:7: FutureWarning: pandas.util.testing is deprecated. Use the functions in the public API at pandas.testing instead.\n",
            "  from pandas.util.testing import assert_frame_equal\n",
            "Using TensorFlow backend.\n"
          ],
          "name": "stderr"
        }
      ]
    },
    {
      "cell_type": "code",
      "metadata": {
        "id": "QC5HSqA3kEfE",
        "colab_type": "code",
        "colab": {
          "base_uri": "https://localhost:8080/",
          "height": 431
        },
        "outputId": "b7a06620-7079-4173-bdb9-74e4cf0cb7bf"
      },
      "source": [
        "#Get the stock quote \n",
        "df = web.DataReader('AAPL', data_source='yahoo', start='2012-01-01', end='2018-07-01') \n",
        "#Show the data \n",
        "df"
      ],
      "execution_count": 3,
      "outputs": [
        {
          "output_type": "execute_result",
          "data": {
            "text/html": [
              "<div>\n",
              "<style scoped>\n",
              "    .dataframe tbody tr th:only-of-type {\n",
              "        vertical-align: middle;\n",
              "    }\n",
              "\n",
              "    .dataframe tbody tr th {\n",
              "        vertical-align: top;\n",
              "    }\n",
              "\n",
              "    .dataframe thead th {\n",
              "        text-align: right;\n",
              "    }\n",
              "</style>\n",
              "<table border=\"1\" class=\"dataframe\">\n",
              "  <thead>\n",
              "    <tr style=\"text-align: right;\">\n",
              "      <th></th>\n",
              "      <th>High</th>\n",
              "      <th>Low</th>\n",
              "      <th>Open</th>\n",
              "      <th>Close</th>\n",
              "      <th>Volume</th>\n",
              "      <th>Adj Close</th>\n",
              "    </tr>\n",
              "    <tr>\n",
              "      <th>Date</th>\n",
              "      <th></th>\n",
              "      <th></th>\n",
              "      <th></th>\n",
              "      <th></th>\n",
              "      <th></th>\n",
              "      <th></th>\n",
              "    </tr>\n",
              "  </thead>\n",
              "  <tbody>\n",
              "    <tr>\n",
              "      <th>2012-01-03</th>\n",
              "      <td>58.928570</td>\n",
              "      <td>58.428570</td>\n",
              "      <td>58.485714</td>\n",
              "      <td>58.747143</td>\n",
              "      <td>75555200.0</td>\n",
              "      <td>50.994907</td>\n",
              "    </tr>\n",
              "    <tr>\n",
              "      <th>2012-01-04</th>\n",
              "      <td>59.240002</td>\n",
              "      <td>58.468571</td>\n",
              "      <td>58.571430</td>\n",
              "      <td>59.062859</td>\n",
              "      <td>65005500.0</td>\n",
              "      <td>51.268970</td>\n",
              "    </tr>\n",
              "    <tr>\n",
              "      <th>2012-01-05</th>\n",
              "      <td>59.792858</td>\n",
              "      <td>58.952858</td>\n",
              "      <td>59.278572</td>\n",
              "      <td>59.718571</td>\n",
              "      <td>67817400.0</td>\n",
              "      <td>51.838169</td>\n",
              "    </tr>\n",
              "    <tr>\n",
              "      <th>2012-01-06</th>\n",
              "      <td>60.392857</td>\n",
              "      <td>59.888573</td>\n",
              "      <td>59.967144</td>\n",
              "      <td>60.342857</td>\n",
              "      <td>79573200.0</td>\n",
              "      <td>52.380054</td>\n",
              "    </tr>\n",
              "    <tr>\n",
              "      <th>2012-01-09</th>\n",
              "      <td>61.107143</td>\n",
              "      <td>60.192856</td>\n",
              "      <td>60.785713</td>\n",
              "      <td>60.247143</td>\n",
              "      <td>98506100.0</td>\n",
              "      <td>52.296970</td>\n",
              "    </tr>\n",
              "    <tr>\n",
              "      <th>...</th>\n",
              "      <td>...</td>\n",
              "      <td>...</td>\n",
              "      <td>...</td>\n",
              "      <td>...</td>\n",
              "      <td>...</td>\n",
              "      <td>...</td>\n",
              "    </tr>\n",
              "    <tr>\n",
              "      <th>2018-06-25</th>\n",
              "      <td>184.919998</td>\n",
              "      <td>180.729996</td>\n",
              "      <td>183.399994</td>\n",
              "      <td>182.169998</td>\n",
              "      <td>31663100.0</td>\n",
              "      <td>177.802338</td>\n",
              "    </tr>\n",
              "    <tr>\n",
              "      <th>2018-06-26</th>\n",
              "      <td>186.529999</td>\n",
              "      <td>182.539993</td>\n",
              "      <td>182.990005</td>\n",
              "      <td>184.429993</td>\n",
              "      <td>24569200.0</td>\n",
              "      <td>180.008163</td>\n",
              "    </tr>\n",
              "    <tr>\n",
              "      <th>2018-06-27</th>\n",
              "      <td>187.279999</td>\n",
              "      <td>184.029999</td>\n",
              "      <td>185.229996</td>\n",
              "      <td>184.160004</td>\n",
              "      <td>25285300.0</td>\n",
              "      <td>179.744629</td>\n",
              "    </tr>\n",
              "    <tr>\n",
              "      <th>2018-06-28</th>\n",
              "      <td>186.210007</td>\n",
              "      <td>183.800003</td>\n",
              "      <td>184.100006</td>\n",
              "      <td>185.500000</td>\n",
              "      <td>17365200.0</td>\n",
              "      <td>181.052505</td>\n",
              "    </tr>\n",
              "    <tr>\n",
              "      <th>2018-06-29</th>\n",
              "      <td>187.190002</td>\n",
              "      <td>182.910004</td>\n",
              "      <td>186.289993</td>\n",
              "      <td>185.110001</td>\n",
              "      <td>22737700.0</td>\n",
              "      <td>180.671844</td>\n",
              "    </tr>\n",
              "  </tbody>\n",
              "</table>\n",
              "<p>1634 rows × 6 columns</p>\n",
              "</div>"
            ],
            "text/plain": [
              "                  High         Low  ...      Volume   Adj Close\n",
              "Date                                ...                        \n",
              "2012-01-03   58.928570   58.428570  ...  75555200.0   50.994907\n",
              "2012-01-04   59.240002   58.468571  ...  65005500.0   51.268970\n",
              "2012-01-05   59.792858   58.952858  ...  67817400.0   51.838169\n",
              "2012-01-06   60.392857   59.888573  ...  79573200.0   52.380054\n",
              "2012-01-09   61.107143   60.192856  ...  98506100.0   52.296970\n",
              "...                ...         ...  ...         ...         ...\n",
              "2018-06-25  184.919998  180.729996  ...  31663100.0  177.802338\n",
              "2018-06-26  186.529999  182.539993  ...  24569200.0  180.008163\n",
              "2018-06-27  187.279999  184.029999  ...  25285300.0  179.744629\n",
              "2018-06-28  186.210007  183.800003  ...  17365200.0  181.052505\n",
              "2018-06-29  187.190002  182.910004  ...  22737700.0  180.671844\n",
              "\n",
              "[1634 rows x 6 columns]"
            ]
          },
          "metadata": {
            "tags": []
          },
          "execution_count": 3
        }
      ]
    }
  ]
}